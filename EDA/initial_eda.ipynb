{
 "cells": [
  {
   "cell_type": "code",
   "execution_count": null,
   "metadata": {},
   "outputs": [],
   "source": [
    "import pandas as pd\n",
    "import pyodbc as odbc\n",
    "from sqlalchemy import create_engine, MetaData, URL\n",
    "import matplotlib.pyplot as plt\n",
    "import seaborn as sns\n",
    "import pygwalker as pyg"
   ]
  },
  {
   "cell_type": "code",
   "execution_count": null,
   "metadata": {},
   "outputs": [],
   "source": [
    "#Set up path or connection strings here...\n",
    "#xlsx\n",
    "path_to_xlsx : str = \"./excel_file.xlsx\"\n",
    "path_to_csv : str = \"./csv_file.csv\"\n",
    "path_to_json : str = \"./json_file.json\"\n",
    "\n",
    "driver : str = \"{SQL Server Native Client 11.0}\" #\"postgresql\"\n",
    "server : str = \"127.0.0.1\"\n",
    "pwd : str = \"password...should come from an environment variable\"\n",
    "uid : str = \"userid... should also come from an environment variable\"\n",
    "database : str = \"databasename\"\n",
    "\n",
    "#non ms sql\n",
    "#connection_url = f'{driver}://{uid}:{pwd}@{server}/{database}'\n",
    "    \n",
    "#mssql\n",
    "connection_string = 'DRIVER=' + driver + ';SERVER=' + server + ';DATABASE=' + database + ';UID=' + uid + ';PWD=' + pwd\n",
    "connection_url = URL.create(\"mssql+pyodbc\", query={\"odbc_connect\": connection_string})\n",
    "\n",
    "engine = create_engine(connection_url)"
   ]
  },
  {
   "cell_type": "markdown",
   "metadata": {},
   "source": [
    "###Load Data"
   ]
  },
  {
   "cell_type": "code",
   "execution_count": null,
   "metadata": {},
   "outputs": [],
   "source": [
    "#data = pd.read_excel(path_to_xlsx)\n",
    "#data = pd.read_csv(path_to_csv)\n",
    "#data = pd.read_json(path_to_json)\n",
    "sql : str = \"Select * from sys.tables\"\n",
    "data = pd.read_sql(sql, conn)"
   ]
  },
  {
   "cell_type": "markdown",
   "metadata": {},
   "source": [
    "###Data Cleaning"
   ]
  },
  {
   "cell_type": "code",
   "execution_count": null,
   "metadata": {},
   "outputs": [],
   "source": [
    "#drop duplicate records\n",
    "data = data.drop_duplicates()\n"
   ]
  },
  {
   "cell_type": "code",
   "execution_count": null,
   "metadata": {},
   "outputs": [],
   "source": [
    "#check out what you have\n",
    "data.head(10)"
   ]
  },
  {
   "cell_type": "code",
   "execution_count": null,
   "metadata": {},
   "outputs": [],
   "source": [
    "#remove anything you don't need\n",
    "data = data.drop(columns = \"not needed data column\")"
   ]
  },
  {
   "cell_type": "code",
   "execution_count": null,
   "metadata": {},
   "outputs": [],
   "source": [
    "#split out any merged data points \n",
    "data[[\"New Col 1\", \"New Col2\", \"New Col3\"]] = data[\"source col\"].str.split(',',2, expand=True)"
   ]
  },
  {
   "cell_type": "code",
   "execution_count": null,
   "metadata": {},
   "outputs": [],
   "source": [
    "#figure out what to do with nulls\n",
    "#defaulting to empty string but what if it should be numeric? you know use common sense\n",
    "data=data.fillna('')\n"
   ]
  },
  {
   "cell_type": "code",
   "execution_count": null,
   "metadata": {},
   "outputs": [],
   "source": [
    "#do any clean up on data\n",
    "data['col']  = data['col'].str.replace('search for', 'replace with')"
   ]
  },
  {
   "cell_type": "code",
   "execution_count": null,
   "metadata": {},
   "outputs": [],
   "source": [
    "#does any data now need to be dropped for any reason\n",
    "for x in data.index:\n",
    "    if data.loc[x, \"column to look at\"] == 'reason for dropping it': #great place for a match\n",
    "        data.drop(x, inplace=True) #drop that record"
   ]
  },
  {
   "cell_type": "code",
   "execution_count": null,
   "metadata": {},
   "outputs": [],
   "source": [
    "#do we have the unique index???\n",
    "#Yes an id column exists\n",
    "data.set_index('column name for index', inplace=True)\n",
    "#composite key?\n",
    "#data.set_index(['col1', 'col2'], inplace=True)\n",
    "#nope but we did screw with things so lets reset.\n",
    "#data.reset_index(inplace=True)"
   ]
  },
  {
   "cell_type": "code",
   "execution_count": null,
   "metadata": {},
   "outputs": [],
   "source": [
    "#just sort it to make searches faster or scrolling through it easier.\n",
    "data.sort_index(inplace=True)"
   ]
  },
  {
   "cell_type": "markdown",
   "metadata": {},
   "source": [
    "###Now we can get to looking at some stuff"
   ]
  },
  {
   "cell_type": "code",
   "execution_count": null,
   "metadata": {},
   "outputs": [],
   "source": [
    "#what are we looking at\n",
    "data.info()"
   ]
  },
  {
   "cell_type": "code",
   "execution_count": null,
   "metadata": {},
   "outputs": [],
   "source": [
    "#how much is left?\n",
    "data.shape"
   ]
  },
  {
   "cell_type": "code",
   "execution_count": null,
   "metadata": {},
   "outputs": [],
   "source": [
    "#over view of data\n",
    "data.describe()"
   ]
  },
  {
   "cell_type": "code",
   "execution_count": null,
   "metadata": {},
   "outputs": [],
   "source": [
    "#do we have any missing data\n",
    "data.isnull().sum()"
   ]
  },
  {
   "cell_type": "code",
   "execution_count": null,
   "metadata": {},
   "outputs": [],
   "source": [
    "#how unique are the columns?\n",
    "data.nunique()"
   ]
  },
  {
   "cell_type": "code",
   "execution_count": null,
   "metadata": {},
   "outputs": [],
   "source": [
    "#what are the columns?\n",
    "data.columns"
   ]
  },
  {
   "cell_type": "code",
   "execution_count": null,
   "metadata": {},
   "outputs": [],
   "source": [
    "#get the first 10 records\n",
    "data.head(10)"
   ]
  },
  {
   "cell_type": "code",
   "execution_count": null,
   "metadata": {},
   "outputs": [],
   "source": [
    "#get the last 10 records\n",
    "data.tail(10)"
   ]
  },
  {
   "cell_type": "code",
   "execution_count": null,
   "metadata": {},
   "outputs": [],
   "source": [
    "#lets look at a heatmap see what might correlate to what else.\n",
    "sns.heatmap(data.corr(), annot = True)\n",
    "\n",
    "plt.rcParams['figure.figsize'] = (20,7)\n",
    "\n",
    "plt.show()"
   ]
  },
  {
   "cell_type": "code",
   "execution_count": null,
   "metadata": {},
   "outputs": [],
   "source": [
    "#that takes a long time to one by one go through things... \n",
    "#just load up pyg and play with the data.\n",
    "pyg.walk(data, dark='dark')"
   ]
  }
 ],
 "metadata": {
  "language_info": {
   "name": "python"
  }
 },
 "nbformat": 4,
 "nbformat_minor": 2
}
